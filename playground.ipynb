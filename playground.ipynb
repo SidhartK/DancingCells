{
 "cells": [
  {
   "cell_type": "code",
   "execution_count": 14,
   "metadata": {},
   "outputs": [],
   "source": [
    "class DancingCells:\n",
    "    def __init__(self, N):\n",
    "        self.N = N\n",
    "        self.dom = list(range(N))\n",
    "        self.idom = list(range(N))\n",
    "        self.s = N - 1\n",
    "    \n",
    "    def delete(self, k):\n",
    "        r = self.idom[k]\n",
    "        if r > self.s:\n",
    "            return \n",
    "        tmp = self.dom[self.s]\n",
    "        self.dom[r] = tmp\n",
    "        self.dom[self.s] = k\n",
    "        self.idom[tmp] = r\n",
    "        self.idom[k] = self.s\n",
    "        self.s -= 1\n",
    "    \n",
    "    def undelete(self):\n",
    "        if self.s >= self.N - 1:\n",
    "            return\n",
    "        self.s += 1\n",
    "        return self.dom[self.s]\n",
    "\n",
    "\n",
    "    def undelete_elem(self, k, return_complexity=False):\n",
    "        elems = []\n",
    "        while not self.has(k):\n",
    "            elems.append(self.undelete())\n",
    "        \n",
    "        for e in elems[:-1]:\n",
    "            self.delete(e)\n",
    "        \n",
    "        if return_complexity:\n",
    "            return 2 * len(elems)\n",
    "        \n",
    "    def has(self, k):\n",
    "        return self.idom[k] <= self.s\n",
    "\n",
    "    def dump(self):\n",
    "        print(\"-\" * 80)\n",
    "        print(\"s: \", self.s)\n",
    "        print(\"Dom: \", self.dom)\n",
    "        print(\"IDom: \", self.idom)\n",
    "        print(\"-\" * 80)\n"
   ]
  },
  {
   "cell_type": "code",
   "execution_count": 15,
   "metadata": {},
   "outputs": [
    {
     "name": "stdout",
     "output_type": "stream",
     "text": [
      "ALL TESTS PASS!!!\n"
     ]
    }
   ],
   "source": [
    "import numpy as np\n",
    "\n",
    "N = 100\n",
    "dc = DancingCells(N)\n",
    "correct_set = set(range(N))\n",
    "\n",
    "def verify(dc, correct_set):\n",
    "    for i in range(N):\n",
    "        assert dc.has(i) == (i in correct_set)\n",
    "\n",
    "def perform_opp(dc, correct_set, k, op):\n",
    "    if op == \"delete\":\n",
    "        dc.delete(k)\n",
    "        correct_set.remove(k)\n",
    "    elif op == \"undelete\":\n",
    "        dc.undelete()\n",
    "        correct_set.add(k)\n",
    "    else:\n",
    "        raise ValueError(\"Invalid op: \", op)\n",
    "    \n",
    "    verify(dc, correct_set)\n",
    "\n",
    "def test_1():\n",
    "    for i in range(N):\n",
    "        perform_opp(dc, correct_set, i, \"delete\")\n",
    "    for i in range(N-1, -1, -1):\n",
    "        perform_opp(dc, correct_set, i, \"undelete\")\n",
    "\n",
    "def test_2():\n",
    "    for i in range(N-1, -1, -1):\n",
    "        perform_opp(dc, correct_set, i, \"delete\")\n",
    "    for i in range(N):\n",
    "        perform_opp(dc, correct_set, i, \"undelete\")\n",
    "\n",
    "def test_3():\n",
    "    ordering = list(range(N))\n",
    "    np.random.shuffle(ordering)\n",
    "    stop = np.random.randint(N)\n",
    "    for i in ordering[:stop]:\n",
    "        perform_opp(dc, correct_set, i, \"delete\")\n",
    "    for i in reversed(ordering[:stop]):\n",
    "        perform_opp(dc, correct_set, i, \"undelete\")\n",
    "\n",
    "test_1()\n",
    "test_2()\n",
    "for i in range(25):\n",
    "    test_3()\n",
    "print(\"ALL TESTS PASS!!!\")"
   ]
  },
  {
   "cell_type": "code",
   "execution_count": 18,
   "metadata": {},
   "outputs": [],
   "source": [
    "dc = DancingCells(N)\n",
    "correct_set = set(range(N))\n",
    "for i in range(N//2):\n",
    "    dc.delete(i)\n",
    "    correct_set.remove(i)\n",
    "\n",
    "dc.undelete_elem(0, return_complexity=True)\n",
    "correct_set.add(0)\n",
    "verify(dc, correct_set)"
   ]
  },
  {
   "cell_type": "code",
   "execution_count": null,
   "metadata": {},
   "outputs": [],
   "source": []
  },
  {
   "cell_type": "code",
   "execution_count": null,
   "metadata": {},
   "outputs": [],
   "source": []
  }
 ],
 "metadata": {
  "kernelspec": {
   "display_name": "Python 3",
   "language": "python",
   "name": "python3"
  },
  "language_info": {
   "codemirror_mode": {
    "name": "ipython",
    "version": 3
   },
   "file_extension": ".py",
   "mimetype": "text/x-python",
   "name": "python",
   "nbconvert_exporter": "python",
   "pygments_lexer": "ipython3",
   "version": "3.11.6"
  }
 },
 "nbformat": 4,
 "nbformat_minor": 2
}
